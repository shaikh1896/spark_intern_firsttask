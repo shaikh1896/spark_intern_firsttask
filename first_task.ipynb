{
  "nbformat": 4,
  "nbformat_minor": 0,
  "metadata": {
    "kernelspec": {
      "display_name": "Python 3",
      "language": "python",
      "name": "python3"
    },
    "language_info": {
      "codemirror_mode": {
        "name": "ipython",
        "version": 3
      },
      "file_extension": ".py",
      "mimetype": "text/x-python",
      "name": "python",
      "nbconvert_exporter": "python",
      "pygments_lexer": "ipython3",
      "version": "3.8.5"
    },
    "colab": {
      "name": "first task (1).ipynb",
      "provenance": []
    }
  },
  "cells": [
    {
      "cell_type": "markdown",
      "metadata": {
        "id": "pfaDhomwg7er"
      },
      "source": [
        "## Task 1: Prediction using Supervised ML\n"
      ]
    },
    {
      "cell_type": "markdown",
      "metadata": {
        "id": "2krSlTJVg7ey"
      },
      "source": [
        "## Name = Shaikh Sadi"
      ]
    },
    {
      "cell_type": "markdown",
      "metadata": {
        "id": "_PUTI8U2g7ez"
      },
      "source": [
        "## what is linear regression and why we are using it in this Problem\n",
        "Linear regression is a statistical method for modelling relationship between a dependent variable with a given set of independent variables. We can call these dependent variables as response and independent variable as features for simplicity.\n",
        "In this problem, we will be dealing with only two variables (that is 'hours studied by student' and 'marks scored by student'\n",
        "It is an example of simple linear regression as it only involves two variables (one feature and one response).\n",
        "\n"
      ]
    },
    {
      "cell_type": "markdown",
      "metadata": {
        "id": "XzqHsTy7g7e0"
      },
      "source": [
        "# Loading the data"
      ]
    },
    {
      "cell_type": "code",
      "metadata": {
        "id": "8rb0FYteg7e1"
      },
      "source": [
        "# importing essential libaries\n",
        "import numpy as np\n",
        "import pandas as pd\n",
        "import matplotlib.pyplot as plt\n",
        "from sklearn.linear_model import LinearRegression\n",
        "from sklearn import metrics\n",
        "%matplotlib inline\n"
      ],
      "execution_count": 5,
      "outputs": []
    },
    {
      "cell_type": "code",
      "metadata": {
        "id": "GmEEI8_6g7e2"
      },
      "source": [
        "# Reading data from dataset\n",
        "student_data = pd.read_csv('dataset/student_scores.csv')"
      ],
      "execution_count": 6,
      "outputs": []
    },
    {
      "cell_type": "code",
      "metadata": {
        "colab": {
          "base_uri": "https://localhost:8080/"
        },
        "id": "prEF1E_8g7e3",
        "outputId": "eda07b0b-6f09-433d-8eca-aa7a178087b1"
      },
      "source": [
        "# shape of data\n",
        "student_data.shape"
      ],
      "execution_count": 7,
      "outputs": [
        {
          "output_type": "execute_result",
          "data": {
            "text/plain": [
              "(25, 2)"
            ]
          },
          "metadata": {
            "tags": []
          },
          "execution_count": 7
        }
      ]
    },
    {
      "cell_type": "code",
      "metadata": {
        "colab": {
          "base_uri": "https://localhost:8080/",
          "height": 296
        },
        "id": "SYeJuuVZg7e6",
        "outputId": "eaaabea5-808f-46ed-99b0-34af39431459"
      },
      "source": [
        "# Description of data\n",
        "student_data.describe()"
      ],
      "execution_count": 8,
      "outputs": [
        {
          "output_type": "execute_result",
          "data": {
            "text/html": [
              "<div>\n",
              "<style scoped>\n",
              "    .dataframe tbody tr th:only-of-type {\n",
              "        vertical-align: middle;\n",
              "    }\n",
              "\n",
              "    .dataframe tbody tr th {\n",
              "        vertical-align: top;\n",
              "    }\n",
              "\n",
              "    .dataframe thead th {\n",
              "        text-align: right;\n",
              "    }\n",
              "</style>\n",
              "<table border=\"1\" class=\"dataframe\">\n",
              "  <thead>\n",
              "    <tr style=\"text-align: right;\">\n",
              "      <th></th>\n",
              "      <th>Hours</th>\n",
              "      <th>Scores</th>\n",
              "    </tr>\n",
              "  </thead>\n",
              "  <tbody>\n",
              "    <tr>\n",
              "      <th>count</th>\n",
              "      <td>25.000000</td>\n",
              "      <td>25.000000</td>\n",
              "    </tr>\n",
              "    <tr>\n",
              "      <th>mean</th>\n",
              "      <td>5.012000</td>\n",
              "      <td>51.480000</td>\n",
              "    </tr>\n",
              "    <tr>\n",
              "      <th>std</th>\n",
              "      <td>2.525094</td>\n",
              "      <td>25.286887</td>\n",
              "    </tr>\n",
              "    <tr>\n",
              "      <th>min</th>\n",
              "      <td>1.100000</td>\n",
              "      <td>17.000000</td>\n",
              "    </tr>\n",
              "    <tr>\n",
              "      <th>25%</th>\n",
              "      <td>2.700000</td>\n",
              "      <td>30.000000</td>\n",
              "    </tr>\n",
              "    <tr>\n",
              "      <th>50%</th>\n",
              "      <td>4.800000</td>\n",
              "      <td>47.000000</td>\n",
              "    </tr>\n",
              "    <tr>\n",
              "      <th>75%</th>\n",
              "      <td>7.400000</td>\n",
              "      <td>75.000000</td>\n",
              "    </tr>\n",
              "    <tr>\n",
              "      <th>max</th>\n",
              "      <td>9.200000</td>\n",
              "      <td>95.000000</td>\n",
              "    </tr>\n",
              "  </tbody>\n",
              "</table>\n",
              "</div>"
            ],
            "text/plain": [
              "           Hours     Scores\n",
              "count  25.000000  25.000000\n",
              "mean    5.012000  51.480000\n",
              "std     2.525094  25.286887\n",
              "min     1.100000  17.000000\n",
              "25%     2.700000  30.000000\n",
              "50%     4.800000  47.000000\n",
              "75%     7.400000  75.000000\n",
              "max     9.200000  95.000000"
            ]
          },
          "metadata": {
            "tags": []
          },
          "execution_count": 8
        }
      ]
    },
    {
      "cell_type": "code",
      "metadata": {
        "colab": {
          "base_uri": "https://localhost:8080/",
          "height": 283
        },
        "id": "nu0eE6s-g7e8",
        "outputId": "5305a76b-d581-4d1b-fce0-6e22df96ccd8"
      },
      "source": [
        "# plot the data\n",
        "plt.scatter(x = student_data['Hours'], y = student_data['Scores'])"
      ],
      "execution_count": 9,
      "outputs": [
        {
          "output_type": "execute_result",
          "data": {
            "text/plain": [
              "<matplotlib.collections.PathCollection at 0x7ff9c6ea3950>"
            ]
          },
          "metadata": {
            "tags": []
          },
          "execution_count": 9
        },
        {
          "output_type": "display_data",
          "data": {
            "image/png": "[encoded data removed]",
            "text/plain": [
              "<Figure size 432x288 with 1 Axes>"
            ]
          },
          "metadata": {
            "tags": [],
            "needs_background": "light"
          }
        }
      ]
    },
    {
      "cell_type": "markdown",
      "metadata": {
        "id": "keYY51alg7e9"
      },
      "source": [
        "# Preparing data\n",
        "In this step we will divide the data into features('input') and label('output')"
      ]
    },
    {
      "cell_type": "code",
      "metadata": {
        "id": "D0wREB1fg7e-"
      },
      "source": [
        "# converting columns into arrays\n",
        "student_hours = student_data.iloc[:, :-1].values\n",
        "student_marks = student_data.iloc[:, 1].values"
      ],
      "execution_count": 10,
      "outputs": []
    },
    {
      "cell_type": "code",
      "metadata": {
        "id": "FFRxzafng7e_"
      },
      "source": [
        "# split the data into train and test set using sklearn builtin train_test_split() method \n",
        "from sklearn.model_selection import train_test_split\n",
        "student_hours_train, student_hours_test, student_marks_train, student_marks_test = train_test_split(student_hours,\n",
        "student_marks,test_size=0.2,random_state=0)"
      ],
      "execution_count": 11,
      "outputs": []
    },
    {
      "cell_type": "markdown",
      "metadata": {
        "id": "wsLpYxVMg7e_"
      },
      "source": [
        "# Training the model"
      ]
    },
    {
      "cell_type": "code",
      "metadata": {
        "colab": {
          "base_uri": "https://localhost:8080/"
        },
        "id": "h3bp0InSg7fA",
        "outputId": "993244ce-fb31-4b36-c9c3-20f0d582cdf3"
      },
      "source": [
        "# applying linear Regression model (traing the model)\n",
        "regressor = LinearRegression()\n",
        "regressor.fit(student_hours_train, student_marks_train)"
      ],
      "execution_count": 12,
      "outputs": [
        {
          "output_type": "execute_result",
          "data": {
            "text/plain": [
              "LinearRegression(copy_X=True, fit_intercept=True, n_jobs=None, normalize=False)"
            ]
          },
          "metadata": {
            "tags": []
          },
          "execution_count": 12
        }
      ]
    },
    {
      "cell_type": "code",
      "metadata": {
        "colab": {
          "base_uri": "https://localhost:8080/",
          "height": 265
        },
        "id": "BYb3BeIhg7fB",
        "outputId": "dc11d603-8348-464e-83d3-bccb0c37cd77"
      },
      "source": [
        "#Plot the regression line\n",
        "line = regressor.coef_*student_hours+regressor.intercept_\n",
        "\n",
        "# Plot for the test data\n",
        "plt.scatter(student_hours, student_marks)\n",
        "plt.plot(student_hours, line);\n",
        "plt.show()"
      ],
      "execution_count": 15,
      "outputs": [
        {
          "output_type": "display_data",
          "data": {
            "image/png": "[encoded data removed]",
            "text/plain": [
              "<Figure size 432x288 with 1 Axes>"
            ]
          },
          "metadata": {
            "tags": [],
            "needs_background": "light"
          }
        }
      ]
    },
    {
      "cell_type": "markdown",
      "metadata": {
        "id": "W4l38Qlxg7fC"
      },
      "source": [
        "# Make predictions "
      ]
    },
    {
      "cell_type": "code",
      "metadata": {
        "id": "-hVmtPGHg7fC"
      },
      "source": [
        "# predicting scores using linear regression\n",
        "scores_prediction = regressor.predict(student_hours_test)"
      ],
      "execution_count": 16,
      "outputs": []
    },
    {
      "cell_type": "code",
      "metadata": {
        "colab": {
          "base_uri": "https://localhost:8080/"
        },
        "id": "B2t8JKWNg7fC",
        "outputId": "17570e30-a179-469f-a08f-0d86fe0c6ca5"
      },
      "source": [
        "# The coefficients\n",
        "print('Coefficients: %.3f'% regressor.coef_)\n",
        "\n",
        "# The intercept\n",
        "print('intercept: %.3f'% regressor.intercept_)"
      ],
      "execution_count": 17,
      "outputs": [
        {
          "output_type": "stream",
          "text": [
            "Coefficients: 9.911\n",
            "intercept: 2.018\n"
          ],
          "name": "stdout"
        }
      ]
    },
    {
      "cell_type": "code",
      "metadata": {
        "colab": {
          "base_uri": "https://localhost:8080/"
        },
        "id": "9XPeDC95g7fD",
        "outputId": "0a707916-0c04-4ad6-fbfa-a2f1f2d189dc"
      },
      "source": [
        "# comparing the actual and predicted values\n",
        "output_df = pd.DataFrame({'Actual': student_marks_test, 'Predicted': scores_prediction})\n",
        "print(output_df)"
      ],
      "execution_count": 18,
      "outputs": [
        {
          "output_type": "stream",
          "text": [
            "   Actual  Predicted\n",
            "0      20  16.884145\n",
            "1      27  33.732261\n",
            "2      69  75.357018\n",
            "3      30  26.794801\n",
            "4      62  60.491033\n"
          ],
          "name": "stdout"
        }
      ]
    },
    {
      "cell_type": "code",
      "metadata": {
        "colab": {
          "base_uri": "https://localhost:8080/",
          "height": 279
        },
        "id": "kaT4MtW4g7fE",
        "outputId": "723aa4a0-e2fa-4382-fcf8-9fbbbf8bfaa6"
      },
      "source": [
        "# Plot outputs\n",
        "plt.scatter(student_hours_test, scores_prediction,  color='black')\n",
        "plt.plot(student_hours_test, scores_prediction, color='blue', linewidth=3)\n",
        "\n",
        "\n",
        "## labeling axis\n",
        "plt.xlabel('Number of hours studied')\n",
        "plt.ylabel('Score out of 100')\n",
        "\n",
        "plt.show()\n"
      ],
      "execution_count": 21,
      "outputs": [
        {
          "output_type": "display_data",
          "data": {
            "image/png": "[encoded data removed]",
            "text/plain": [
              "<Figure size 432x288 with 1 Axes>"
            ]
          },
          "metadata": {
            "tags": [],
            "needs_background": "light"
          }
        }
      ]
    },
    {
      "cell_type": "code",
      "metadata": {
        "colab": {
          "base_uri": "https://localhost:8080/"
        },
        "id": "5Yfz1rIZg7fE",
        "outputId": "1cfd8073-ad23-47b7-8dac-ab319da1047d"
      },
      "source": [
        "# score prediction when hours of study is 9.5 hours\n",
        "hours = 9.5\n",
        "print('No of Hours = %.2f'% hours)\n",
        "print('predicted score of student if he studies for 9.5 hours is = %.2f'% (regressor.predict([[9.5]])))"
      ],
      "execution_count": 22,
      "outputs": [
        {
          "output_type": "stream",
          "text": [
            "No of Hours = 9.50\n",
            "predicted score of student if he studies for 9.5 hours is = 96.17\n"
          ],
          "name": "stdout"
        }
      ]
    },
    {
      "cell_type": "markdown",
      "metadata": {
        "id": "x5-YENsJg7fE"
      },
      "source": [
        "## Evaluating the model\n",
        "The final step is to evaluate the performance of algorithm. This step is particularly important to compare how well different algorithms perform on a particular dataset. For simplicity here, we have chosen the mean square error. There are many other metrics."
      ]
    },
    {
      "cell_type": "code",
      "metadata": {
        "colab": {
          "base_uri": "https://localhost:8080/"
        },
        "id": "i1TXpLhog7fF",
        "outputId": "5ad7adb8-380b-484c-a419-b6303f3a4828"
      },
      "source": [
        "# The mean squared error\n",
        "print('Mean squared error: %.3f'% metrics.mean_squared_error(student_marks_test, scores_prediction))\n",
        "\n",
        "# The Mean absolute error\n",
        "print('Mean Absolute Error:%.3f'% metrics.mean_absolute_error(student_marks_test, scores_prediction))\n",
        "\n",
        "# The coefficient of determination: (1 is perfect prediction)\n",
        "print('Coefficient of determination: %.3f'% metrics.r2_score(student_marks_test, scores_prediction))\n",
        "\n",
        "print('Root Mean Squared Error:%.3f'% np.sqrt(metrics.mean_squared_error(student_marks_test, scores_prediction)))"
      ],
      "execution_count": 25,
      "outputs": [
        {
          "output_type": "stream",
          "text": [
            "Mean squared error: 21.599\n",
            "Mean Absolute Error:4.184\n",
            "Coefficient of determination: 0.945\n",
            "Root Mean Squared Error:4.647\n"
          ],
          "name": "stdout"
        }
      ]
    },
    {
      "cell_type": "code",
      "metadata": {
        "colab": {
          "base_uri": "https://localhost:8080/"
        },
        "id": "gdzeBG-mg7fF",
        "outputId": "411b83ca-b3b4-4d2c-e121-98d62e7f6b73"
      },
      "source": [
        "if np.sqrt(metrics.mean_squared_error(student_marks_test, scores_prediction)) < 0.1*student_data.Scores.mean():\n",
        "    print('The Root mean squared error is less than 10% of the mean value of the percentages of all the students i.e. 51.48. This means that our algorithm did a decent job')"
      ],
      "execution_count": 26,
      "outputs": [
        {
          "output_type": "stream",
          "text": [
            "The Root mean squared error is less than 10% of the mean value of the percentages of all the students i.e. 51.48. This means that our algorithm did a decent job\n"
          ],
          "name": "stdout"
        }
      ]
    }
  ]
}